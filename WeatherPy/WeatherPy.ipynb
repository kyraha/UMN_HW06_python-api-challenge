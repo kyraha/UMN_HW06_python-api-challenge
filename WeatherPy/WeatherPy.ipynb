{
 "cells": [
  {
   "cell_type": "markdown",
   "metadata": {},
   "source": [
    "# WeatherPy\n",
    "----\n",
    "\n",
    "#### Note\n",
    "* Instructions have been included for each segment. You do not have to follow them exactly, but they are included to help you think through the steps."
   ]
  },
  {
   "cell_type": "code",
   "execution_count": 1,
   "metadata": {
    "scrolled": true
   },
   "outputs": [],
   "source": [
    "# Dependencies and Setup\n",
    "import matplotlib.pyplot as plt\n",
    "import pandas as pd\n",
    "import numpy as np\n",
    "import requests\n",
    "import time\n",
    "from scipy.stats import linregress\n",
    "\n",
    "# Import API key\n",
    "from api_keys import weather_api_key\n",
    "\n",
    "# Incorporated citipy to determine city based on latitude and longitude\n",
    "from citipy import citipy\n",
    "\n",
    "# Output File (CSV)\n",
    "output_data_file = \"output_data/cities.csv\"\n",
    "\n",
    "# Range of latitudes and longitudes\n",
    "lat_range = (-90, 90)\n",
    "lng_range = (-180, 180)"
   ]
  },
  {
   "cell_type": "markdown",
   "metadata": {},
   "source": [
    "## Generate Cities List"
   ]
  },
  {
   "cell_type": "code",
   "execution_count": 2,
   "metadata": {},
   "outputs": [
    {
     "data": {
      "text/plain": [
       "593"
      ]
     },
     "execution_count": 2,
     "metadata": {},
     "output_type": "execute_result"
    }
   ],
   "source": [
    "# List for holding lat_lngs and cities\n",
    "lat_lngs = []\n",
    "cities = []\n",
    "\n",
    "# Create a set of random lat and lng combinations\n",
    "lats = np.random.uniform(lat_range[0], lat_range[1], size=1500)\n",
    "lngs = np.random.uniform(lng_range[0], lng_range[1], size=1500)\n",
    "lat_lngs = zip(lats, lngs)\n",
    "\n",
    "# Identify nearest city for each lat, lng combination\n",
    "for lat_lng in lat_lngs:\n",
    "    city = citipy.nearest_city(lat_lng[0], lat_lng[1]).city_name\n",
    "    \n",
    "    # If the city is unique, then add it to a our cities list\n",
    "    if city not in cities:\n",
    "        cities.append(city)\n",
    "\n",
    "# Print the city count to confirm sufficient count\n",
    "len(cities)"
   ]
  },
  {
   "cell_type": "markdown",
   "metadata": {},
   "source": [
    "### Perform API Calls\n",
    "* Perform a weather check on each city using a series of successive API calls.\n",
    "* Include a print log of each city as it'sbeing processed (with the city number and city name).\n"
   ]
  },
  {
   "cell_type": "code",
   "execution_count": 3,
   "metadata": {},
   "outputs": [
    {
     "name": "stdout",
     "output_type": "stream",
     "text": [
      "ushuaia\n",
      "rikitea\n",
      "mys shmidta\n",
      "upernavik\n",
      "cidreira\n",
      "babanusah\n",
      "atuona\n",
      "tecolutla\n",
      "sestri levante\n",
      "tsagan aman\n"
     ]
    },
    {
     "data": {
      "text/plain": [
       "8"
      ]
     },
     "execution_count": 3,
     "metadata": {},
     "output_type": "execute_result"
    }
   ],
   "source": [
    "url = \"http://api.openweathermap.org/data/2.5/weather?\"\n",
    "batch_size = 10\n",
    "start_city = 10\n",
    "weather_data = []\n",
    "\n",
    "for city in cities[start_city:(start_city+batch_size)]:\n",
    "    print(city)\n",
    "\n",
    "    # Build query URL\n",
    "    query_url = url + \"appid=\" + weather_api_key + \"&q=\" + city\n",
    "    # Get weather data\n",
    "    weather_response = requests.get(query_url)\n",
    "    weather_json = weather_response.json()\n",
    "    if weather_json[\"cod\"] == 200:\n",
    "        weather_data.append(weather_json)\n",
    "    \n",
    "\n",
    "# Get the temperature from the response\n",
    "#print(f\"The weather API responded with: {weather_json}.\")\n",
    "len(weather_data)"
   ]
  },
  {
   "cell_type": "code",
   "execution_count": null,
   "metadata": {},
   "outputs": [],
   "source": [
    "\n",
    "        "
   ]
  },
  {
   "cell_type": "markdown",
   "metadata": {},
   "source": [
    "### Convert Raw Data to DataFrame\n",
    "* Export the city data into a .csv.\n",
    "* Display the DataFrame"
   ]
  },
  {
   "cell_type": "code",
   "execution_count": 4,
   "metadata": {},
   "outputs": [
    {
     "name": "stdout",
     "output_type": "stream",
     "text": [
      "Ushuaia\n",
      "Rikitea\n",
      "Upernavik\n",
      "Cidreira\n",
      "Atuona\n",
      "Tecolutla\n",
      "Sestri Levante\n",
      "Tsagan Aman\n"
     ]
    }
   ],
   "source": [
    "#City          550\n",
    "#Lat           550\n",
    "#Lng           550\n",
    "#Max Temp      550\n",
    "#Humidity      550\n",
    "#Cloudiness    550\n",
    "#Wind Speed    550\n",
    "#Country       550\n",
    "#Date          550\n",
    "df_cities = pd.DataFrame()\n",
    "for one_city in weather_data:\n",
    "    print(one_city[\"name\"])\n",
    "    row = {\n",
    "        \"City\": one_city[\"name\"],\n",
    "        \"Lat\":  one_city[\"coord\"][\"lat\"],\n",
    "        \"Lon\":  one_city[\"coord\"][\"lon\"],\n",
    "        \"Max Temp\": one_city[\"main\"][\"temp_max\"],\n",
    "        \"Humidity\": one_city[\"main\"][\"humidity\"],\n",
    "        \"Cloudiness\": one_city[\"clouds\"][\"all\"],\n",
    "        \"Wind Speed\": one_city[\"wind\"][\"speed\"],\n",
    "        \"Country\": one_city[\"sys\"][\"country\"],\n",
    "        \"Date\": one_city[\"dt\"]\n",
    "    }\n",
    "    df_cities = df_cities.append(row, ignore_index=True)\n",
    "df_cities.to_csv(\"weather_dataframe.csv\")"
   ]
  },
  {
   "cell_type": "code",
   "execution_count": 5,
   "metadata": {},
   "outputs": [
    {
     "data": {
      "text/html": [
       "<div>\n",
       "<style scoped>\n",
       "    .dataframe tbody tr th:only-of-type {\n",
       "        vertical-align: middle;\n",
       "    }\n",
       "\n",
       "    .dataframe tbody tr th {\n",
       "        vertical-align: top;\n",
       "    }\n",
       "\n",
       "    .dataframe thead th {\n",
       "        text-align: right;\n",
       "    }\n",
       "</style>\n",
       "<table border=\"1\" class=\"dataframe\">\n",
       "  <thead>\n",
       "    <tr style=\"text-align: right;\">\n",
       "      <th></th>\n",
       "      <th>City</th>\n",
       "      <th>Cloudiness</th>\n",
       "      <th>Country</th>\n",
       "      <th>Date</th>\n",
       "      <th>Humidity</th>\n",
       "      <th>Lat</th>\n",
       "      <th>Lon</th>\n",
       "      <th>Max Temp</th>\n",
       "      <th>Wind Speed</th>\n",
       "    </tr>\n",
       "  </thead>\n",
       "  <tbody>\n",
       "    <tr>\n",
       "      <th>0</th>\n",
       "      <td>Ushuaia</td>\n",
       "      <td>75.0</td>\n",
       "      <td>AR</td>\n",
       "      <td>1.587102e+09</td>\n",
       "      <td>71.0</td>\n",
       "      <td>-54.80</td>\n",
       "      <td>-68.30</td>\n",
       "      <td>285.15</td>\n",
       "      <td>9.80</td>\n",
       "    </tr>\n",
       "    <tr>\n",
       "      <th>1</th>\n",
       "      <td>Rikitea</td>\n",
       "      <td>3.0</td>\n",
       "      <td>PF</td>\n",
       "      <td>1.587101e+09</td>\n",
       "      <td>75.0</td>\n",
       "      <td>-23.12</td>\n",
       "      <td>-134.97</td>\n",
       "      <td>297.78</td>\n",
       "      <td>4.35</td>\n",
       "    </tr>\n",
       "    <tr>\n",
       "      <th>2</th>\n",
       "      <td>Upernavik</td>\n",
       "      <td>100.0</td>\n",
       "      <td>GL</td>\n",
       "      <td>1.587102e+09</td>\n",
       "      <td>92.0</td>\n",
       "      <td>72.79</td>\n",
       "      <td>-56.15</td>\n",
       "      <td>269.24</td>\n",
       "      <td>4.90</td>\n",
       "    </tr>\n",
       "    <tr>\n",
       "      <th>3</th>\n",
       "      <td>Cidreira</td>\n",
       "      <td>19.0</td>\n",
       "      <td>BR</td>\n",
       "      <td>1.587102e+09</td>\n",
       "      <td>80.0</td>\n",
       "      <td>-30.18</td>\n",
       "      <td>-50.21</td>\n",
       "      <td>290.92</td>\n",
       "      <td>4.83</td>\n",
       "    </tr>\n",
       "    <tr>\n",
       "      <th>4</th>\n",
       "      <td>Atuona</td>\n",
       "      <td>75.0</td>\n",
       "      <td>PF</td>\n",
       "      <td>1.587102e+09</td>\n",
       "      <td>76.0</td>\n",
       "      <td>-9.80</td>\n",
       "      <td>-139.03</td>\n",
       "      <td>301.30</td>\n",
       "      <td>6.07</td>\n",
       "    </tr>\n",
       "    <tr>\n",
       "      <th>5</th>\n",
       "      <td>Tecolutla</td>\n",
       "      <td>76.0</td>\n",
       "      <td>MX</td>\n",
       "      <td>1.587102e+09</td>\n",
       "      <td>90.0</td>\n",
       "      <td>20.48</td>\n",
       "      <td>-97.02</td>\n",
       "      <td>296.65</td>\n",
       "      <td>1.60</td>\n",
       "    </tr>\n",
       "    <tr>\n",
       "      <th>6</th>\n",
       "      <td>Sestri Levante</td>\n",
       "      <td>20.0</td>\n",
       "      <td>IT</td>\n",
       "      <td>1.587102e+09</td>\n",
       "      <td>57.0</td>\n",
       "      <td>44.27</td>\n",
       "      <td>9.40</td>\n",
       "      <td>284.82</td>\n",
       "      <td>1.00</td>\n",
       "    </tr>\n",
       "    <tr>\n",
       "      <th>7</th>\n",
       "      <td>Tsagan Aman</td>\n",
       "      <td>49.0</td>\n",
       "      <td>RU</td>\n",
       "      <td>1.587102e+09</td>\n",
       "      <td>54.0</td>\n",
       "      <td>47.56</td>\n",
       "      <td>46.72</td>\n",
       "      <td>284.06</td>\n",
       "      <td>11.67</td>\n",
       "    </tr>\n",
       "  </tbody>\n",
       "</table>\n",
       "</div>"
      ],
      "text/plain": [
       "             City  Cloudiness Country          Date  Humidity    Lat     Lon  \\\n",
       "0         Ushuaia        75.0      AR  1.587102e+09      71.0 -54.80  -68.30   \n",
       "1         Rikitea         3.0      PF  1.587101e+09      75.0 -23.12 -134.97   \n",
       "2       Upernavik       100.0      GL  1.587102e+09      92.0  72.79  -56.15   \n",
       "3        Cidreira        19.0      BR  1.587102e+09      80.0 -30.18  -50.21   \n",
       "4          Atuona        75.0      PF  1.587102e+09      76.0  -9.80 -139.03   \n",
       "5       Tecolutla        76.0      MX  1.587102e+09      90.0  20.48  -97.02   \n",
       "6  Sestri Levante        20.0      IT  1.587102e+09      57.0  44.27    9.40   \n",
       "7     Tsagan Aman        49.0      RU  1.587102e+09      54.0  47.56   46.72   \n",
       "\n",
       "   Max Temp  Wind Speed  \n",
       "0    285.15        9.80  \n",
       "1    297.78        4.35  \n",
       "2    269.24        4.90  \n",
       "3    290.92        4.83  \n",
       "4    301.30        6.07  \n",
       "5    296.65        1.60  \n",
       "6    284.82        1.00  \n",
       "7    284.06       11.67  "
      ]
     },
     "execution_count": 5,
     "metadata": {},
     "output_type": "execute_result"
    }
   ],
   "source": [
    "df_cities"
   ]
  },
  {
   "cell_type": "markdown",
   "metadata": {},
   "source": [
    "## Inspect the data and remove the cities where the humidity > 100%.\n",
    "----\n",
    "Skip this step if there are no cities that have humidity > 100%. "
   ]
  },
  {
   "cell_type": "code",
   "execution_count": 6,
   "metadata": {},
   "outputs": [
    {
     "data": {
      "text/html": [
       "<div>\n",
       "<style scoped>\n",
       "    .dataframe tbody tr th:only-of-type {\n",
       "        vertical-align: middle;\n",
       "    }\n",
       "\n",
       "    .dataframe tbody tr th {\n",
       "        vertical-align: top;\n",
       "    }\n",
       "\n",
       "    .dataframe thead th {\n",
       "        text-align: right;\n",
       "    }\n",
       "</style>\n",
       "<table border=\"1\" class=\"dataframe\">\n",
       "  <thead>\n",
       "    <tr style=\"text-align: right;\">\n",
       "      <th></th>\n",
       "      <th>Cloudiness</th>\n",
       "      <th>Date</th>\n",
       "      <th>Humidity</th>\n",
       "      <th>Lat</th>\n",
       "      <th>Lon</th>\n",
       "      <th>Max Temp</th>\n",
       "      <th>Wind Speed</th>\n",
       "    </tr>\n",
       "  </thead>\n",
       "  <tbody>\n",
       "    <tr>\n",
       "      <th>count</th>\n",
       "      <td>8.000000</td>\n",
       "      <td>8.000000e+00</td>\n",
       "      <td>8.000000</td>\n",
       "      <td>8.000000</td>\n",
       "      <td>8.00000</td>\n",
       "      <td>8.000000</td>\n",
       "      <td>8.000000</td>\n",
       "    </tr>\n",
       "    <tr>\n",
       "      <th>mean</th>\n",
       "      <td>52.125000</td>\n",
       "      <td>1.587102e+09</td>\n",
       "      <td>74.375000</td>\n",
       "      <td>8.400000</td>\n",
       "      <td>-61.19500</td>\n",
       "      <td>288.740000</td>\n",
       "      <td>5.527500</td>\n",
       "    </tr>\n",
       "    <tr>\n",
       "      <th>std</th>\n",
       "      <td>34.766312</td>\n",
       "      <td>6.255840e+01</td>\n",
       "      <td>13.721073</td>\n",
       "      <td>44.592709</td>\n",
       "      <td>65.03886</td>\n",
       "      <td>10.262293</td>\n",
       "      <td>3.673635</td>\n",
       "    </tr>\n",
       "    <tr>\n",
       "      <th>min</th>\n",
       "      <td>3.000000</td>\n",
       "      <td>1.587101e+09</td>\n",
       "      <td>54.000000</td>\n",
       "      <td>-54.800000</td>\n",
       "      <td>-139.03000</td>\n",
       "      <td>269.240000</td>\n",
       "      <td>1.000000</td>\n",
       "    </tr>\n",
       "    <tr>\n",
       "      <th>25%</th>\n",
       "      <td>19.750000</td>\n",
       "      <td>1.587102e+09</td>\n",
       "      <td>67.500000</td>\n",
       "      <td>-24.885000</td>\n",
       "      <td>-106.50750</td>\n",
       "      <td>284.630000</td>\n",
       "      <td>3.662500</td>\n",
       "    </tr>\n",
       "    <tr>\n",
       "      <th>50%</th>\n",
       "      <td>62.000000</td>\n",
       "      <td>1.587102e+09</td>\n",
       "      <td>75.500000</td>\n",
       "      <td>5.340000</td>\n",
       "      <td>-62.22500</td>\n",
       "      <td>288.035000</td>\n",
       "      <td>4.865000</td>\n",
       "    </tr>\n",
       "    <tr>\n",
       "      <th>75%</th>\n",
       "      <td>75.250000</td>\n",
       "      <td>1.587102e+09</td>\n",
       "      <td>82.500000</td>\n",
       "      <td>45.092500</td>\n",
       "      <td>-35.30750</td>\n",
       "      <td>296.932500</td>\n",
       "      <td>7.002500</td>\n",
       "    </tr>\n",
       "    <tr>\n",
       "      <th>max</th>\n",
       "      <td>100.000000</td>\n",
       "      <td>1.587102e+09</td>\n",
       "      <td>92.000000</td>\n",
       "      <td>72.790000</td>\n",
       "      <td>46.72000</td>\n",
       "      <td>301.300000</td>\n",
       "      <td>11.670000</td>\n",
       "    </tr>\n",
       "  </tbody>\n",
       "</table>\n",
       "</div>"
      ],
      "text/plain": [
       "       Cloudiness          Date   Humidity        Lat        Lon    Max Temp  \\\n",
       "count    8.000000  8.000000e+00   8.000000   8.000000    8.00000    8.000000   \n",
       "mean    52.125000  1.587102e+09  74.375000   8.400000  -61.19500  288.740000   \n",
       "std     34.766312  6.255840e+01  13.721073  44.592709   65.03886   10.262293   \n",
       "min      3.000000  1.587101e+09  54.000000 -54.800000 -139.03000  269.240000   \n",
       "25%     19.750000  1.587102e+09  67.500000 -24.885000 -106.50750  284.630000   \n",
       "50%     62.000000  1.587102e+09  75.500000   5.340000  -62.22500  288.035000   \n",
       "75%     75.250000  1.587102e+09  82.500000  45.092500  -35.30750  296.932500   \n",
       "max    100.000000  1.587102e+09  92.000000  72.790000   46.72000  301.300000   \n",
       "\n",
       "       Wind Speed  \n",
       "count    8.000000  \n",
       "mean     5.527500  \n",
       "std      3.673635  \n",
       "min      1.000000  \n",
       "25%      3.662500  \n",
       "50%      4.865000  \n",
       "75%      7.002500  \n",
       "max     11.670000  "
      ]
     },
     "execution_count": 6,
     "metadata": {},
     "output_type": "execute_result"
    }
   ],
   "source": [
    "df_cities.describe()"
   ]
  },
  {
   "cell_type": "code",
   "execution_count": 7,
   "metadata": {},
   "outputs": [
    {
     "data": {
      "text/html": [
       "<div>\n",
       "<style scoped>\n",
       "    .dataframe tbody tr th:only-of-type {\n",
       "        vertical-align: middle;\n",
       "    }\n",
       "\n",
       "    .dataframe tbody tr th {\n",
       "        vertical-align: top;\n",
       "    }\n",
       "\n",
       "    .dataframe thead th {\n",
       "        text-align: right;\n",
       "    }\n",
       "</style>\n",
       "<table border=\"1\" class=\"dataframe\">\n",
       "  <thead>\n",
       "    <tr style=\"text-align: right;\">\n",
       "      <th></th>\n",
       "      <th>City</th>\n",
       "      <th>Cloudiness</th>\n",
       "      <th>Country</th>\n",
       "      <th>Date</th>\n",
       "      <th>Humidity</th>\n",
       "      <th>Lat</th>\n",
       "      <th>Lon</th>\n",
       "      <th>Max Temp</th>\n",
       "      <th>Wind Speed</th>\n",
       "    </tr>\n",
       "  </thead>\n",
       "  <tbody>\n",
       "  </tbody>\n",
       "</table>\n",
       "</div>"
      ],
      "text/plain": [
       "Empty DataFrame\n",
       "Columns: [City, Cloudiness, Country, Date, Humidity, Lat, Lon, Max Temp, Wind Speed]\n",
       "Index: []"
      ]
     },
     "execution_count": 7,
     "metadata": {},
     "output_type": "execute_result"
    }
   ],
   "source": [
    "#  Get the indices of cities that have humidity over 100%.\n",
    "df_cities[df_cities[\"Humidity\"] > 100.0]"
   ]
  },
  {
   "cell_type": "code",
   "execution_count": 8,
   "metadata": {},
   "outputs": [],
   "source": [
    "# Make a new DataFrame equal to the city data to drop all humidity outliers by index.\n",
    "# Passing \"inplace=False\" will make a copy of the city_data DataFrame, which we call \"clean_city_data\".\n",
    "df_clean_cities = df_cities.drop(df_cities[df_cities[\"Humidity\"] > 100.0].index)"
   ]
  },
  {
   "cell_type": "code",
   "execution_count": 9,
   "metadata": {},
   "outputs": [
    {
     "data": {
      "text/html": [
       "<div>\n",
       "<style scoped>\n",
       "    .dataframe tbody tr th:only-of-type {\n",
       "        vertical-align: middle;\n",
       "    }\n",
       "\n",
       "    .dataframe tbody tr th {\n",
       "        vertical-align: top;\n",
       "    }\n",
       "\n",
       "    .dataframe thead th {\n",
       "        text-align: right;\n",
       "    }\n",
       "</style>\n",
       "<table border=\"1\" class=\"dataframe\">\n",
       "  <thead>\n",
       "    <tr style=\"text-align: right;\">\n",
       "      <th></th>\n",
       "      <th>Lat</th>\n",
       "      <th>Cloudiness</th>\n",
       "      <th>Humidity</th>\n",
       "      <th>Max Temp</th>\n",
       "      <th>Wind Speed</th>\n",
       "    </tr>\n",
       "  </thead>\n",
       "  <tbody>\n",
       "    <tr>\n",
       "      <th>0</th>\n",
       "      <td>-54.80</td>\n",
       "      <td>75.0</td>\n",
       "      <td>71.0</td>\n",
       "      <td>285.15</td>\n",
       "      <td>9.80</td>\n",
       "    </tr>\n",
       "    <tr>\n",
       "      <th>1</th>\n",
       "      <td>-23.12</td>\n",
       "      <td>3.0</td>\n",
       "      <td>75.0</td>\n",
       "      <td>297.78</td>\n",
       "      <td>4.35</td>\n",
       "    </tr>\n",
       "    <tr>\n",
       "      <th>2</th>\n",
       "      <td>72.79</td>\n",
       "      <td>100.0</td>\n",
       "      <td>92.0</td>\n",
       "      <td>269.24</td>\n",
       "      <td>4.90</td>\n",
       "    </tr>\n",
       "    <tr>\n",
       "      <th>3</th>\n",
       "      <td>-30.18</td>\n",
       "      <td>19.0</td>\n",
       "      <td>80.0</td>\n",
       "      <td>290.92</td>\n",
       "      <td>4.83</td>\n",
       "    </tr>\n",
       "    <tr>\n",
       "      <th>4</th>\n",
       "      <td>-9.80</td>\n",
       "      <td>75.0</td>\n",
       "      <td>76.0</td>\n",
       "      <td>301.30</td>\n",
       "      <td>6.07</td>\n",
       "    </tr>\n",
       "    <tr>\n",
       "      <th>5</th>\n",
       "      <td>20.48</td>\n",
       "      <td>76.0</td>\n",
       "      <td>90.0</td>\n",
       "      <td>296.65</td>\n",
       "      <td>1.60</td>\n",
       "    </tr>\n",
       "    <tr>\n",
       "      <th>6</th>\n",
       "      <td>44.27</td>\n",
       "      <td>20.0</td>\n",
       "      <td>57.0</td>\n",
       "      <td>284.82</td>\n",
       "      <td>1.00</td>\n",
       "    </tr>\n",
       "    <tr>\n",
       "      <th>7</th>\n",
       "      <td>47.56</td>\n",
       "      <td>49.0</td>\n",
       "      <td>54.0</td>\n",
       "      <td>284.06</td>\n",
       "      <td>11.67</td>\n",
       "    </tr>\n",
       "  </tbody>\n",
       "</table>\n",
       "</div>"
      ],
      "text/plain": [
       "     Lat  Cloudiness  Humidity  Max Temp  Wind Speed\n",
       "0 -54.80        75.0      71.0    285.15        9.80\n",
       "1 -23.12         3.0      75.0    297.78        4.35\n",
       "2  72.79       100.0      92.0    269.24        4.90\n",
       "3 -30.18        19.0      80.0    290.92        4.83\n",
       "4  -9.80        75.0      76.0    301.30        6.07\n",
       "5  20.48        76.0      90.0    296.65        1.60\n",
       "6  44.27        20.0      57.0    284.82        1.00\n",
       "7  47.56        49.0      54.0    284.06       11.67"
      ]
     },
     "execution_count": 9,
     "metadata": {},
     "output_type": "execute_result"
    }
   ],
   "source": [
    "# Extract relevant fields from the data frame\n",
    "df_clean_cities = df_clean_cities[[\"Lat\", \"Cloudiness\", \"Humidity\", \"Max Temp\", \"Wind Speed\"]]\n",
    "\n",
    "# Export the City_Data into a csv\n",
    "df_clean_cities.to_csv(\"weather_clean_dataframe.csv\")\n",
    "df_clean_cities"
   ]
  },
  {
   "cell_type": "markdown",
   "metadata": {},
   "source": [
    "## Plotting the Data\n",
    "* Use proper labeling of the plots using plot titles (including date of analysis) and axes labels.\n",
    "* Save the plotted figures as .pngs."
   ]
  },
  {
   "cell_type": "markdown",
   "metadata": {},
   "source": [
    "## Latitude vs. Temperature Plot"
   ]
  },
  {
   "cell_type": "code",
   "execution_count": 10,
   "metadata": {
    "scrolled": true
   },
   "outputs": [
    {
     "data": {
      "image/png": "[encoded data removed]",
      "text/plain": [
       "<Figure size 432x288 with 1 Axes>"
      ]
     },
     "metadata": {
      "needs_background": "light"
     },
     "output_type": "display_data"
    }
   ],
   "source": [
    "plt.title(\"City Latitude vs. Max Temperature\")\n",
    "plt.scatter(df_clean_cities[\"Lat\"], df_clean_cities[\"Max Temp\"])\n",
    "plt.xlabel(\"Latitude\")\n",
    "plt.ylabel(\"Max Temperature (K)\")\n",
    "plt.show()"
   ]
  },
  {
   "cell_type": "markdown",
   "metadata": {},
   "source": [
    "## Latitude vs. Humidity Plot"
   ]
  },
  {
   "cell_type": "code",
   "execution_count": 11,
   "metadata": {},
   "outputs": [
    {
     "data": {
      "image/png": "[encoded data removed]",
      "text/plain": [
       "<Figure size 432x288 with 1 Axes>"
      ]
     },
     "metadata": {
      "needs_background": "light"
     },
     "output_type": "display_data"
    }
   ],
   "source": [
    "plt.title(\"City Latitude vs. Humidity\")\n",
    "plt.scatter(df_clean_cities[\"Lat\"], df_clean_cities[\"Humidity\"])\n",
    "plt.xlabel(\"Latitude\")\n",
    "plt.ylabel(\"Humidity (%)\")\n",
    "plt.show()"
   ]
  },
  {
   "cell_type": "markdown",
   "metadata": {},
   "source": [
    "## Latitude vs. Cloudiness Plot"
   ]
  },
  {
   "cell_type": "code",
   "execution_count": 12,
   "metadata": {},
   "outputs": [
    {
     "data": {
      "image/png": "[encoded data removed]",
      "text/plain": [
       "<Figure size 432x288 with 1 Axes>"
      ]
     },
     "metadata": {
      "needs_background": "light"
     },
     "output_type": "display_data"
    }
   ],
   "source": [
    "plt.title(\"City Latitude vs. Cloudiness\")\n",
    "plt.scatter(df_clean_cities[\"Lat\"], df_clean_cities[\"Cloudiness\"])\n",
    "plt.xlabel(\"Latitude\")\n",
    "plt.ylabel(\"Cloudiness (%)\")\n",
    "plt.show()"
   ]
  },
  {
   "cell_type": "markdown",
   "metadata": {},
   "source": [
    "## Latitude vs. Wind Speed Plot"
   ]
  },
  {
   "cell_type": "code",
   "execution_count": 13,
   "metadata": {},
   "outputs": [
    {
     "data": {
      "image/png": "[encoded data removed]",
      "text/plain": [
       "<Figure size 432x288 with 1 Axes>"
      ]
     },
     "metadata": {
      "needs_background": "light"
     },
     "output_type": "display_data"
    }
   ],
   "source": [
    "plt.title(\"City Latitude vs. Wind Speed\")\n",
    "plt.scatter(df_clean_cities[\"Lat\"], df_clean_cities[\"Wind Speed\"])\n",
    "plt.xlabel(\"Latitude\")\n",
    "plt.ylabel(\"Wind Speed (mph)\")\n",
    "plt.show()"
   ]
  },
  {
   "cell_type": "markdown",
   "metadata": {},
   "source": [
    "## Linear Regression"
   ]
  },
  {
   "cell_type": "code",
   "execution_count": 14,
   "metadata": {},
   "outputs": [],
   "source": [
    "# OPTIONAL: Create a function to create Linear Regression plots\n",
    "def fit_plot(x, y, field, units):\n",
    "    ann_x = x.min() + (x.max() - x.min())*0.3\n",
    "    ann_y = y.min() + (y.max() - y.min())*0.1\n",
    "    ann_r = y.min() + (y.max() - y.min())*0.2\n",
    "    lreg = linregress(x, y)\n",
    "    plt.title(f\"City Latitude vs. {field}\")\n",
    "    plt.scatter(x, y, label=\"Original data\")\n",
    "    plt.plot(x, lreg.slope*x + lreg.intercept, color=\"red\", label=\"Fitted line\")\n",
    "    plt.annotate(f\"y = {lreg.slope:.2f} x Lat + {lreg.intercept:.2f}\", xy=(ann_x,ann_y), color=\"red\")\n",
    "    plt.annotate(f\"r-squared: {lreg.rvalue**2:.3f}\", xy=(ann_x,ann_r), color=\"red\")\n",
    "    plt.xlabel(\"Latitude\")\n",
    "    plt.ylabel(f\"{field} ({units})\")\n",
    "    plt.show()"
   ]
  },
  {
   "cell_type": "code",
   "execution_count": 15,
   "metadata": {},
   "outputs": [],
   "source": [
    "# Create Northern and Southern Hemisphere DataFrames\n",
    "df_northern = df_clean_cities[df_clean_cities[\"Lat\"] >= 0]\n",
    "df_southern = df_clean_cities[df_clean_cities[\"Lat\"] <= 0]"
   ]
  },
  {
   "cell_type": "markdown",
   "metadata": {},
   "source": [
    "####  Northern Hemisphere - Max Temp vs. Latitude Linear Regression"
   ]
  },
  {
   "cell_type": "code",
   "execution_count": 16,
   "metadata": {},
   "outputs": [
    {
     "data": {
      "image/png": "[encoded data removed]",
      "text/plain": [
       "<Figure size 432x288 with 1 Axes>"
      ]
     },
     "metadata": {
      "needs_background": "light"
     },
     "output_type": "display_data"
    }
   ],
   "source": [
    "fit_plot(df_northern[\"Lat\"], df_northern[\"Max Temp\"], \"Max Temperature\", \"K\")"
   ]
  },
  {
   "cell_type": "code",
   "execution_count": 17,
   "metadata": {},
   "outputs": [
    {
     "data": {
      "text/plain": [
       "-42.041"
      ]
     },
     "execution_count": 17,
     "metadata": {},
     "output_type": "execute_result"
    }
   ],
   "source": [
    "mi = df_clean_cities[\"Lat\"].min()\n",
    "ma = df_clean_cities[\"Lat\"].max()\n",
    "mi + (ma - mi)*0.1"
   ]
  },
  {
   "cell_type": "markdown",
   "metadata": {},
   "source": [
    "####  Southern Hemisphere - Max Temp vs. Latitude Linear Regression"
   ]
  },
  {
   "cell_type": "code",
   "execution_count": 18,
   "metadata": {},
   "outputs": [
    {
     "data": {
      "image/png": "[encoded data removed]",
      "text/plain": [
       "<Figure size 432x288 with 1 Axes>"
      ]
     },
     "metadata": {
      "needs_background": "light"
     },
     "output_type": "display_data"
    }
   ],
   "source": [
    "fit_plot(df_southern[\"Lat\"], df_southern[\"Max Temp\"], \"Max Temperature\", \"K\")"
   ]
  },
  {
   "cell_type": "markdown",
   "metadata": {},
   "source": [
    "####  Northern Hemisphere - Humidity (%) vs. Latitude Linear Regression"
   ]
  },
  {
   "cell_type": "code",
   "execution_count": 19,
   "metadata": {},
   "outputs": [
    {
     "data": {
      "image/png": "[encoded data removed]",
      "text/plain": [
       "<Figure size 432x288 with 1 Axes>"
      ]
     },
     "metadata": {
      "needs_background": "light"
     },
     "output_type": "display_data"
    }
   ],
   "source": [
    "fit_plot(df_northern[\"Lat\"], df_northern[\"Humidity\"], \"Humidity\", \"%\")"
   ]
  },
  {
   "cell_type": "markdown",
   "metadata": {},
   "source": [
    "####  Southern Hemisphere - Humidity (%) vs. Latitude Linear Regression"
   ]
  },
  {
   "cell_type": "code",
   "execution_count": 20,
   "metadata": {},
   "outputs": [
    {
     "data": {
      "image/png": "[encoded data removed]",
      "text/plain": [
       "<Figure size 432x288 with 1 Axes>"
      ]
     },
     "metadata": {
      "needs_background": "light"
     },
     "output_type": "display_data"
    }
   ],
   "source": [
    "fit_plot(df_southern[\"Lat\"], df_southern[\"Humidity\"], \"Max Temperature\", \"%\")"
   ]
  },
  {
   "cell_type": "markdown",
   "metadata": {},
   "source": [
    "####  Northern Hemisphere - Cloudiness (%) vs. Latitude Linear Regression"
   ]
  },
  {
   "cell_type": "code",
   "execution_count": 21,
   "metadata": {},
   "outputs": [
    {
     "data": {
      "image/png": "[encoded data removed]",
      "text/plain": [
       "<Figure size 432x288 with 1 Axes>"
      ]
     },
     "metadata": {
      "needs_background": "light"
     },
     "output_type": "display_data"
    }
   ],
   "source": [
    "fit_plot(df_northern[\"Lat\"], df_northern[\"Cloudiness\"], \"Cloudiness\", \"%\")"
   ]
  },
  {
   "cell_type": "markdown",
   "metadata": {},
   "source": [
    "####  Southern Hemisphere - Cloudiness (%) vs. Latitude Linear Regression"
   ]
  },
  {
   "cell_type": "code",
   "execution_count": 22,
   "metadata": {},
   "outputs": [
    {
     "data": {
      "image/png": "[encoded data removed]",
      "text/plain": [
       "<Figure size 432x288 with 1 Axes>"
      ]
     },
     "metadata": {
      "needs_background": "light"
     },
     "output_type": "display_data"
    }
   ],
   "source": [
    "fit_plot(df_southern[\"Lat\"], df_southern[\"Cloudiness\"], \"Cloudiness\", \"%\")"
   ]
  },
  {
   "cell_type": "markdown",
   "metadata": {},
   "source": [
    "####  Northern Hemisphere - Wind Speed (mph) vs. Latitude Linear Regression"
   ]
  },
  {
   "cell_type": "code",
   "execution_count": 23,
   "metadata": {},
   "outputs": [
    {
     "data": {
      "image/png": "[encoded data removed]",
      "text/plain": [
       "<Figure size 432x288 with 1 Axes>"
      ]
     },
     "metadata": {
      "needs_background": "light"
     },
     "output_type": "display_data"
    }
   ],
   "source": [
    "fit_plot(df_northern[\"Lat\"], df_northern[\"Wind Speed\"], \"Wind Speed\", \"mph\")"
   ]
  },
  {
   "cell_type": "markdown",
   "metadata": {},
   "source": [
    "####  Southern Hemisphere - Wind Speed (mph) vs. Latitude Linear Regression"
   ]
  },
  {
   "cell_type": "code",
   "execution_count": 24,
   "metadata": {},
   "outputs": [
    {
     "data": {
      "image/png": "[encoded data removed]",
      "text/plain": [
       "<Figure size 432x288 with 1 Axes>"
      ]
     },
     "metadata": {
      "needs_background": "light"
     },
     "output_type": "display_data"
    }
   ],
   "source": [
    "fit_plot(df_southern[\"Lat\"], df_southern[\"Wind Speed\"], \"Wind Speed\", \"mph\")"
   ]
  },
  {
   "cell_type": "code",
   "execution_count": null,
   "metadata": {},
   "outputs": [],
   "source": []
  }
 ],
 "metadata": {
  "anaconda-cloud": {},
  "kernel_info": {
   "name": "python3"
  },
  "kernelspec": {
   "display_name": "Python 3",
   "language": "python",
   "name": "python3"
  },
  "language_info": {
   "codemirror_mode": {
    "name": "ipython",
    "version": 3
   },
   "file_extension": ".py",
   "mimetype": "text/x-python",
   "name": "python",
   "nbconvert_exporter": "python",
   "pygments_lexer": "ipython3",
   "version": "3.6.9"
  },
  "latex_envs": {
   "LaTeX_envs_menu_present": true,
   "autoclose": false,
   "autocomplete": true,
   "bibliofile": "biblio.bib",
   "cite_by": "apalike",
   "current_citInitial": 1,
   "eqLabelWithNumbers": true,
   "eqNumInitial": 1,
   "hotkeys": {
    "equation": "Ctrl-E",
    "itemize": "Ctrl-I"
   },
   "labels_anchors": false,
   "latex_user_defs": false,
   "report_style_numbering": false,
   "user_envs_cfg": false
  },
  "nteract": {
   "version": "0.12.3"
  }
 },
 "nbformat": 4,
 "nbformat_minor": 2
}
